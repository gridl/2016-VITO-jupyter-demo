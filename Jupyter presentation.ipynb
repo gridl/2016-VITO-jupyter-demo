{
 "cells": [
  {
   "cell_type": "markdown",
   "metadata": {
    "slideshow": {
     "slide_type": "slide"
    }
   },
   "source": [
    "<CENTER>\n",
    "  <header>\n",
    "    <img src=\"images/jupyter.svg\" style=\"height: 400px\" />\n",
    "    <h3>June 28, 2016</h3>\n",
    "    <p></p>\n",
    "    <h3>Joris Van den Bossche, Arnout Standaert</h3>\n",
    "    <p></p>\n",
    "Source: <a href=\"https://github.com/jorisvandenbossche/2016-VITO-jupyter-demo\">https://github.com/jorisvandenbossche/2016-VITO-jupyter-demo</a>\n",
    "  </header>\n",
    "</CENTER>"
   ]
  },
  {
   "cell_type": "markdown",
   "metadata": {
    "slideshow": {
     "slide_type": "slide"
    }
   },
   "source": [
    "# What is Jupyter?"
   ]
  },
  {
   "cell_type": "markdown",
   "metadata": {
    "slideshow": {
     "slide_type": "fragment"
    }
   },
   "source": [
    "Open source, interactive data science and scientific computing platform across over 40 programming languages (Python, Julia, R and many more).\n"
   ]
  },
  {
   "cell_type": "markdown",
   "metadata": {
    "slideshow": {
     "slide_type": "fragment"
    }
   },
   "source": [
    "* A web based notebook"
   ]
  },
  {
   "cell_type": "markdown",
   "metadata": {
    "slideshow": {
     "slide_type": "fragment"
    }
   },
   "source": [
    "* An ecosystem of tools to run, share, communicate, present, .. the computable content"
   ]
  },
  {
   "cell_type": "markdown",
   "metadata": {
    "slideshow": {
     "slide_type": "slide"
    }
   },
   "source": [
    "# Short history"
   ]
  },
  {
   "cell_type": "markdown",
   "metadata": {
    "slideshow": {
     "slide_type": "fragment"
    }
   },
   "source": [
    "Origin: IPython\n",
    "* IPython: an _enhanced_ Python command-line interface\n",
    "<img src=\"images/ipy_screenshot.png\" height=350 padding=15px/>\n",
    "* IPython notebook: browser-based environment for working with Python/IPython\n",
    "\n"
   ]
  },
  {
   "cell_type": "markdown",
   "metadata": {
    "slideshow": {
     "slide_type": "subslide"
    }
   },
   "source": [
    "* Modular setup:\n",
    "<img src=\"images/jupyter_setup_py.svg\" style=\"height: 200px\" />"
   ]
  },
  {
   "cell_type": "markdown",
   "metadata": {
    "slideshow": {
     "slide_type": "subslide"
    }
   },
   "source": [
    " * why not try other kernels? \n",
    " <img src=\"images/jupyter_setup_other.svg\" style=\"height: 200px\" />\n",
    "      &rArr; language-agnostic <b>Jupyter notebook</b>\n",
    " "
   ]
  },
  {
   "cell_type": "markdown",
   "metadata": {
    "slideshow": {
     "slide_type": "subslide"
    }
   },
   "source": [
    "# Evolution\n",
    "\n",
    "* Attention and funding from various communities & data science players (Google, Microsoft, IBM, Bloomberg, ...)\n",
    "* Quickly evolving and gaining features & language backends "
   ]
  },
  {
   "cell_type": "markdown",
   "metadata": {
    "slideshow": {
     "slide_type": "slide"
    }
   },
   "source": [
    "# The Jupyter Notebook"
   ]
  },
  {
   "cell_type": "markdown",
   "metadata": {
    "slideshow": {
     "slide_type": "fragment"
    }
   },
   "source": [
    "* web application\n",
    "* combine live code with explanatory text, equations, images, visualizations and HTML/JavaScript widgets"
   ]
  },
  {
   "cell_type": "markdown",
   "metadata": {
    "slideshow": {
     "slide_type": "fragment"
    }
   },
   "source": [
    "## Showtime: \n",
    "* [Intro to the Notebook](examples/Intro to the Notebook.ipynb)\n",
    "* [R and other kernels in Notebook](examples/R Examples.ipynb)"
   ]
  },
  {
   "cell_type": "markdown",
   "metadata": {
    "slideshow": {
     "slide_type": "slide"
    }
   },
   "source": [
    "# Jupyter as scientific and collaboration tool"
   ]
  },
  {
   "cell_type": "markdown",
   "metadata": {
    "slideshow": {
     "slide_type": "fragment"
    }
   },
   "source": [
    "The notebook is powerful to do quick data analysis, explore an idea and communicate about it:"
   ]
  },
  {
   "cell_type": "markdown",
   "metadata": {
    "slideshow": {
     "slide_type": "fragment"
    }
   },
   "source": [
    "* [How far is everyone living from a public park in Antwerp?](examples/Antwerp_distance_to_green_area.ipynb)\n",
    "* [Peter Norvig on the traveling salesperson problem](http://nbviewer.jupyter.org/url/norvig.com/ipython/TSP.ipynb)\n",
    "* [Analysis of car registrations in Belgium 2014](https://github.com/stijnvanhoey/open_data_showcases/blob/master/vehicle_registration_example/car_data.ipynb)\n"
   ]
  },
  {
   "cell_type": "markdown",
   "metadata": {
    "slideshow": {
     "slide_type": "slide"
    }
   },
   "source": [
    "Gateway to reproducible research:\n",
    "* can be put under version control (Subversion/Git/...)\n",
    "* encourages documentation\n",
    "* enables collaboration (... JupyterHub, see later)\n",
    "* can be executed again at any time"
   ]
  },
  {
   "cell_type": "markdown",
   "metadata": {
    "slideshow": {
     "slide_type": "subslide"
    }
   },
   "source": [
    "### Export options to share ideas:\n",
    "<img src=\"images/IPynbWorkflows.png\" style=\"height: 400px\" />"
   ]
  },
  {
   "cell_type": "markdown",
   "metadata": {
    "slideshow": {
     "slide_type": "subslide"
    }
   },
   "source": [
    "## nbviewer: sharing online notebooks\n",
    "Sharing notebooks with people outside VITO.\n",
    "* read-only access!\n",
    "* no Python runtime involved, just the output\n"
   ]
  },
  {
   "cell_type": "markdown",
   "metadata": {
    "slideshow": {
     "slide_type": "fragment"
    }
   },
   "source": [
    "* http://nbviewer.jupyter.org/"
   ]
  },
  {
   "cell_type": "markdown",
   "metadata": {
    "slideshow": {
     "slide_type": "fragment"
    }
   },
   "source": [
    "* GitHub can render Jupyter notebooks, too"
   ]
  },
  {
   "cell_type": "markdown",
   "metadata": {
    "slideshow": {
     "slide_type": "slide"
    }
   },
   "source": [
    "# Jupyter in education"
   ]
  },
  {
   "cell_type": "markdown",
   "metadata": {
    "slideshow": {
     "slide_type": "fragment"
    }
   },
   "source": [
    "For those of you teaching... Jupyter notebook can be used for:\n",
    "\n",
    "* teaching material - in general- (hands on exercises)\n",
    "* presentations\n",
    "* text book\n",
    "* grading"
   ]
  },
  {
   "cell_type": "markdown",
   "metadata": {
    "slideshow": {
     "slide_type": "fragment"
    }
   },
   "source": [
    "**Interactivity** is crucial benefit!"
   ]
  },
  {
   "cell_type": "markdown",
   "metadata": {
    "slideshow": {
     "slide_type": "subslide"
    }
   },
   "source": [
    "### Examples\n",
    "* [12 Steps to Navier-Stokes](https://github.com/barbagroup/CFDPython) (Lorena Barba)\n",
    "* [Intro to Applied Bioinformatics](https://github.com/gregcaporaso/An-Introduction-To-Applied-Bioinformatics) (Greg Caporaso)\n",
    "* [Probabilistic Programming & Bayesian Methods for Hackers](https://camdavidsonpilon.github.io/Probabilistic-Programming-and-Bayesian-Methods-for-Hackers/) (Cam Davidson-Pilon)\n",
    "* [Chemical Engineering Analysis](http://jckantor.github.io/CBE20255/) (Jeffrey Kantor)\n",
    "\n",
    "UGent example:\n",
    "* [Guest course at UNESCO-IHE about dynamical modelling](https://github.com/stijnvanhoey/2013_UNESCO_uncertainty_course)"
   ]
  },
  {
   "cell_type": "markdown",
   "metadata": {
    "slideshow": {
     "slide_type": "subslide"
    }
   },
   "source": [
    "### Notebooks as presentation - examples\n",
    "* This presentation is a notebook\n",
    "* Oscar's talk on `scikit-learn` is a notebook\n",
    "* Live vs static presentations\n"
   ]
  },
  {
   "cell_type": "markdown",
   "metadata": {
    "slideshow": {
     "slide_type": "slide"
    }
   },
   "source": [
    "# The Jupyter ecosystem"
   ]
  },
  {
   "cell_type": "markdown",
   "metadata": {
    "slideshow": {
     "slide_type": "fragment"
    }
   },
   "source": [
    "* interactive parallel computing in notebooks ([ipyparallel]())\n",
    "* widgets ([ipywidgets](https://ipywidgets.readthedocs.io/en/latest/))\n",
    "* nbgrader ([nbgrader](https://ipyparallel.readthedocs.io/en/latest/))\n",
    "* dashboards ()https://github.com/jupyter-incubator/dashboards\n",
    "* Notebook extensions (https://github.com/ipython-contrib/IPython-notebook-extensions)"
   ]
  },
  {
   "cell_type": "markdown",
   "metadata": {
    "slideshow": {
     "slide_type": "slide"
    }
   },
   "source": [
    "# Jupyter out there\n",
    "Lots of players are jumping on the Jupyter bandwagon."
   ]
  },
  {
   "cell_type": "markdown",
   "metadata": {
    "slideshow": {
     "slide_type": "subslide"
    }
   },
   "source": [
    "![](https://cloud.google.com/datalab/images/intro-notebook.png)\n",
    "Source: https://cloud.google.com/datalab"
   ]
  },
  {
   "cell_type": "markdown",
   "metadata": {
    "slideshow": {
     "slide_type": "subslide"
    }
   },
   "source": [
    "![IBM](https://knowledgeanyhow.org/static/images/kawb.png)\n",
    "Source: https://knowledgeanyhow.org"
   ]
  },
  {
   "cell_type": "markdown",
   "metadata": {
    "slideshow": {
     "slide_type": "subslide"
    }
   },
   "source": [
    "![](http://blogs.technet.com/resized-image.ashx/__size/550x0/__key/communityserver-blogs-components-weblogfiles/00-00-01-02-52/Jupyter_2D00_1.1.png)\n",
    "Source: https://blogs.technet.com"
   ]
  },
  {
   "cell_type": "markdown",
   "metadata": {
    "slideshow": {
     "slide_type": "subslide"
    }
   },
   "source": [
    "## Jupyter at O'Reilly\n",
    "\n",
    "https://www.oreilly.com/ideas/jupyter-at-oreilly\n",
    "\n",
    "https://www.oreilly.com/learning/intro-to-svm\n",
    "\n",
    "Oriole online tutorials: http://www.oreilly.com/oriole/"
   ]
  },
  {
   "cell_type": "markdown",
   "metadata": {
    "slideshow": {
     "slide_type": "slide"
    }
   },
   "source": [
    "# Summary\n",
    "\n",
    "Jupyter Notebook enables an interactive coding environment, with applications in:\n",
    "* Data exploration\n",
    "* Scientific analysis and communication\n",
    "* Teaching"
   ]
  },
  {
   "cell_type": "markdown",
   "metadata": {
    "slideshow": {
     "slide_type": "slide"
    }
   },
   "source": [
    "# How can I start using Jupyter notebooks?"
   ]
  },
  {
   "cell_type": "markdown",
   "metadata": {
    "slideshow": {
     "slide_type": "subslide"
    }
   },
   "source": [
    "# JupyterHub\n",
    "Standard approach for notebook work: \n",
    "* single user\n",
    "* start up a notebook on your local computer"
   ]
  },
  {
   "cell_type": "markdown",
   "metadata": {
    "slideshow": {
     "slide_type": "fragment"
    }
   },
   "source": [
    "JupyterHub: hosted, multi-user Jupyter notebooks"
   ]
  },
  {
   "cell_type": "markdown",
   "metadata": {
    "slideshow": {
     "slide_type": "subslide"
    }
   },
   "source": [
    "A hosted Jupyter environment:\n",
    "\n",
    "- Quick try in the cloud: https://try.jupyter.org/\n",
    "- **JupyterHub**: VITO server @ http://mrgvm.vito.local:8000/\n",
    "    - accounts on request\n",
    "    - private directory for your own notebooks \n",
    "    - shared directories for directly collaborating on notebooks\n",
    "    - notebook extensions pre-installed\n",
    "    - ideas for improvement welcome"
   ]
  },
  {
   "cell_type": "markdown",
   "metadata": {
    "slideshow": {
     "slide_type": "subslide"
    }
   },
   "source": [
    "Personal computer/laptop: \n",
    "* standard Python environment with `pip install jupyter`<br/>\n",
    " &rarr; installation of scientific packages is non-trivial! (Numpy, SciPy, ...)\n",
    "* [Anaconda](https://www.continuum.io/downloads) Python distribution is easier"
   ]
  },
  {
   "cell_type": "markdown",
   "metadata": {
    "slideshow": {
     "slide_type": "subslide"
    }
   },
   "source": [
    "### Personal install: Anaconda"
   ]
  },
  {
   "cell_type": "markdown",
   "metadata": {
    "slideshow": {
     "slide_type": "fragment"
    }
   },
   "source": [
    "[Anaconda](https://www.continuum.io/downloads) provides an entire suite of (python oriented) packages, including all functionalities of the Jupyter Notebook:"
   ]
  },
  {
   "cell_type": "code",
   "execution_count": 3,
   "metadata": {
    "collapsed": false,
    "slideshow": {
     "slide_type": "skip"
    }
   },
   "outputs": [],
   "source": [
    "from IPython.display import IFrame"
   ]
  },
  {
   "cell_type": "code",
   "execution_count": 4,
   "metadata": {
    "collapsed": false,
    "slideshow": {
     "slide_type": "fragment"
    }
   },
   "outputs": [
    {
     "data": {
      "text/html": [
       "\n",
       "        <iframe\n",
       "            width=\"900\"\n",
       "            height=\"300\"\n",
       "            src=\"https://www.continuum.io/why-anaconda\"\n",
       "            frameborder=\"0\"\n",
       "            allowfullscreen\n",
       "        ></iframe>\n",
       "        "
      ],
      "text/plain": [
       "<IPython.lib.display.IFrame at 0xe95c18>"
      ]
     },
     "execution_count": 4,
     "metadata": {},
     "output_type": "execute_result"
    }
   ],
   "source": [
    "IFrame('https://www.continuum.io/why-anaconda', width=900, height=300)"
   ]
  },
  {
   "cell_type": "markdown",
   "metadata": {
    "slideshow": {
     "slide_type": "subslide"
    }
   },
   "source": [
    "#### Don' t be afraid of the black screen...\n",
    "... just do\n",
    "\n",
    "        jupyter notebook\n",
    "        \n",
    "![](./images/start_notebook.png)"
   ]
  },
  {
   "cell_type": "code",
   "execution_count": null,
   "metadata": {
    "collapsed": true
   },
   "outputs": [],
   "source": []
  }
 ],
 "metadata": {
  "celltoolbar": "Slideshow",
  "kernelspec": {
   "display_name": "Python 3",
   "language": "python",
   "name": "python3"
  },
  "language_info": {
   "codemirror_mode": {
    "name": "ipython",
    "version": 3
   },
   "file_extension": ".py",
   "mimetype": "text/x-python",
   "name": "python",
   "nbconvert_exporter": "python",
   "pygments_lexer": "ipython3",
   "version": "3.5.1"
  },
  "nav_menu": {},
  "toc": {
   "navigate_menu": true,
   "number_sections": true,
   "sideBar": true,
   "threshold": 6,
   "toc_cell": false,
   "toc_section_display": "none",
   "toc_window_display": false
  },
  "widgets": {
   "state": {},
   "version": "1.1.2"
  }
 },
 "nbformat": 4,
 "nbformat_minor": 0
}
